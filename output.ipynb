{
 "cells": [
  {
   "cell_type": "code",
   "execution_count": 7,
   "metadata": {},
   "outputs": [
    {
     "name": "stdout",
     "output_type": "stream",
     "text": [
      "Collecting keras\n",
      "  Using cached Keras-2.3.1-py2.py3-none-any.whl (377 kB)\n",
      "Requirement already satisfied: keras-preprocessing>=1.0.5 in c:\\users\\ramub\\.conda\\envs\\tf_gpu\\lib\\site-packages (from keras) (1.1.0)\n",
      "Requirement already satisfied: six>=1.9.0 in c:\\users\\ramub\\.conda\\envs\\tf_gpu\\lib\\site-packages (from keras) (1.14.0)\n",
      "Collecting pyyaml\n",
      "  Downloading PyYAML-5.3.1-cp37-cp37m-win_amd64.whl (216 kB)\n",
      "Requirement already satisfied: scipy>=0.14 in c:\\users\\ramub\\.conda\\envs\\tf_gpu\\lib\\site-packages (from keras) (1.4.1)\n",
      "Requirement already satisfied: numpy>=1.9.1 in c:\\users\\ramub\\.conda\\envs\\tf_gpu\\lib\\site-packages (from keras) (1.18.1)\n",
      "Requirement already satisfied: keras-applications>=1.0.6 in c:\\users\\ramub\\.conda\\envs\\tf_gpu\\lib\\site-packages (from keras) (1.0.8)\n",
      "Requirement already satisfied: h5py in c:\\users\\ramub\\.conda\\envs\\tf_gpu\\lib\\site-packages (from keras) (2.10.0)\n",
      "Installing collected packages: pyyaml, keras\n",
      "Successfully installed keras-2.3.1 pyyaml-5.3.1\n"
     ]
    },
    {
     "name": "stderr",
     "output_type": "stream",
     "text": [
      "Using TensorFlow backend.\n"
     ]
    }
   ],
   "source": [
    "!pip install keras\n",
    "#Tensorflow and Keras\n",
    "import tensorflow as tf\n",
    "from tensorflow import keras\n",
    "\n",
    "# Import of keras model and hidden layers for our convolutional network\n",
    "from keras.models import Sequential\n",
    "from keras.layers.convolutional import Conv2D, MaxPooling2D\n",
    "from keras.layers import Dense, Flatten, Dropout\n",
    "\n",
    "\n"
   ]
  },
  {
   "cell_type": "code",
   "execution_count": 11,
   "metadata": {},
   "outputs": [],
   "source": [
    "# !pip install matplotlib\n",
    "# !pip install pandas\n",
    "#Image handling libraries\n",
    "import numpy as np\n",
    "import matplotlib.pyplot as plt\n",
    "import cv2\n",
    "import pandas as pd\n",
    "import os"
   ]
  },
  {
   "cell_type": "code",
   "execution_count": null,
   "metadata": {},
   "outputs": [],
   "source": []
  }
 ],
 "metadata": {
  "kernelspec": {
   "display_name": "Python 3.7.6 64-bit ('tf_gpu': conda)",
   "language": "python",
   "name": "python37664bittfgpucondabc397252a93843a79c631b18b11332eb"
  },
  "language_info": {
   "codemirror_mode": {
    "name": "ipython",
    "version": 3
   },
   "file_extension": ".py",
   "mimetype": "text/x-python",
   "name": "python",
   "nbconvert_exporter": "python",
   "pygments_lexer": "ipython3",
   "version": "3.7.6"
  }
 },
 "nbformat": 4,
 "nbformat_minor": 2
}
